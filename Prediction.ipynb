{
 "cells": [
  {
   "cell_type": "code",
   "execution_count": 1,
   "metadata": {},
   "outputs": [
    {
     "name": "stderr",
     "output_type": "stream",
     "text": [
      "C:\\Users\\RAVIKUMAR\\Anaconda3\\lib\\site-packages\\h5py\\__init__.py:36: FutureWarning: Conversion of the second argument of issubdtype from `float` to `np.floating` is deprecated. In future, it will be treated as `np.float64 == np.dtype(float).type`.\n",
      "  from ._conv import register_converters as _register_converters\n",
      "Using TensorFlow backend.\n"
     ]
    }
   ],
   "source": [
    "import numpy as np\n",
    "import pandas as pd\n",
    "import matplotlib.pyplot as plt\n",
    "%matplotlib inline\n",
    "from keras.utils.data_utils import get_file\n",
    "from keras.datasets import imdb\n",
    "from keras.preprocessing import sequence\n",
    "from keras.models import Sequential\n",
    "from keras.layers import Dense, Dropout, Activation, Flatten\n",
    "from keras.layers import Input, Embedding, Reshape, merge, LSTM, Bidirectional\n",
    "from keras.layers import SimpleRNN, TimeDistributed\n",
    "from keras.layers.normalization import BatchNormalization\n",
    "from keras.utils import np_utils\n",
    "from keras.layers import Conv1D, MaxPooling1D, ZeroPadding1D\n",
    "from keras.utils import np_utils\n",
    "from keras.optimizers import Adam\n",
    "import re\n",
    "from numpy.random import random, permutation, randn, normal, uniform, choice\n",
    "import os\n",
    "from keras.callbacks import ModelCheckpoint"
   ]
  },
  {
   "cell_type": "code",
   "execution_count": 2,
   "metadata": {},
   "outputs": [],
   "source": [
    "SEQ_LENGTH = 2"
   ]
  },
  {
   "cell_type": "code",
   "execution_count": 3,
   "metadata": {},
   "outputs": [],
   "source": [
    "file = open('Q2.txt', encoding = 'utf8')\n",
    "raw_text = file.read()    #you need to read further characters as well\n",
    "raw_text = raw_text.lower()"
   ]
  },
  {
   "cell_type": "code",
   "execution_count": 4,
   "metadata": {},
   "outputs": [
    {
     "name": "stdout",
     "output_type": "stream",
     "text": [
      "['\\n', ' ', 'a', 'b', 'c', 'e', 'f', 'g', 'i', 'k', 'l', 'n', 'o', 'q', 'r', 's', 'u', 'w', 'x', 'y', 'z']\n"
     ]
    },
    {
     "data": {
      "text/plain": [
       "21"
      ]
     },
     "execution_count": 4,
     "metadata": {},
     "output_type": "execute_result"
    }
   ],
   "source": [
    "chars = sorted(list(set(raw_text)))\n",
    "print(chars)\n",
    "len(chars)"
   ]
  },
  {
   "cell_type": "code",
   "execution_count": 5,
   "metadata": {
    "scrolled": true
   },
   "outputs": [
    {
     "name": "stdout",
     "output_type": "stream",
     "text": [
      "Text length = 37\n",
      "No. of characters = 21\n"
     ]
    }
   ],
   "source": [
    "text_length = len(raw_text)\n",
    "char_length = len(chars)\n",
    "VOCABULARY = char_length\n",
    "print(\"Text length = \" + str(text_length))\n",
    "print(\"No. of characters = \" + str(char_length))"
   ]
  },
  {
   "cell_type": "code",
   "execution_count": 6,
   "metadata": {},
   "outputs": [
    {
     "name": "stdout",
     "output_type": "stream",
     "text": [
      "qu i\n",
      "ui c\n",
      "ic k\n",
      "ck  \n",
      "k  b\n",
      " b r\n",
      "br o\n",
      "ro w\n",
      "ow n\n",
      "wn  \n",
      "n  f\n",
      " f o\n",
      "fo x\n",
      "ox  \n",
      "x  i\n",
      " i s\n",
      "is  \n",
      "s  l\n",
      " l a\n",
      "la z\n",
      "az y\n",
      "zy \n",
      "\n",
      "y\n",
      " q\n",
      "\n",
      "q u\n",
      "qu e\n",
      "ue u\n",
      "eu e\n",
      "ue  \n",
      "e  i\n",
      " i s\n",
      "is  \n",
      "s  l\n",
      " l o\n",
      "lo n\n",
      "on g\n"
     ]
    }
   ],
   "source": [
    "char_to_index = {v:i for i,v in enumerate(chars)}\n",
    "index_to_char = {i:v for i,v in enumerate(chars)}\n",
    "input_strings = []\n",
    "output_strings = []\n",
    "\n",
    "for i in range(len(raw_text) - SEQ_LENGTH):\n",
    "    X_text = raw_text[i: i + SEQ_LENGTH]\n",
    "    X = [char_to_index[char] for char in X_text]\n",
    "    input_strings.append(X)    \n",
    "    Y = raw_text[i + SEQ_LENGTH]\n",
    "    print(X_text,Y)\n",
    "    output_strings.append(char_to_index[Y])"
   ]
  },
  {
   "cell_type": "code",
   "execution_count": 7,
   "metadata": {},
   "outputs": [
    {
     "name": "stdout",
     "output_type": "stream",
     "text": [
      "(35, 2)\n",
      "(35,)\n"
     ]
    }
   ],
   "source": [
    "length = len(input_strings)\n",
    "input_strings = np.array(input_strings)\n",
    "#input_strings = np.reshape(input_strings, (input_strings.shape[0], input_strings.shape[1], 1))\n",
    "\n",
    "output_strings = np.array(output_strings)\n",
    "#output_strings = np_utils.to_categorical(output_strings)\n",
    "print(input_strings.shape)\n",
    "print(output_strings.shape)"
   ]
  },
  {
   "cell_type": "code",
   "execution_count": 8,
   "metadata": {},
   "outputs": [],
   "source": [
    "hidden_layers = 256\n",
    "n_fac = 42\n",
    "pred_num = 2"
   ]
  },
  {
   "cell_type": "code",
   "execution_count": 9,
   "metadata": {},
   "outputs": [
    {
     "data": {
      "text/plain": [
       "(35, 2)"
      ]
     },
     "execution_count": 9,
     "metadata": {},
     "output_type": "execute_result"
    }
   ],
   "source": [
    "input_strings.shape"
   ]
  },
  {
   "cell_type": "code",
   "execution_count": 10,
   "metadata": {},
   "outputs": [],
   "source": [
    "model = Sequential([\n",
    "        Embedding(VOCABULARY, n_fac, input_length=pred_num),\n",
    "        SimpleRNN(hidden_layers, activation='relu'),\n",
    "        Dense(VOCABULARY, activation='softmax')\n",
    "    ])"
   ]
  },
  {
   "cell_type": "code",
   "execution_count": 11,
   "metadata": {
    "scrolled": true
   },
   "outputs": [
    {
     "name": "stdout",
     "output_type": "stream",
     "text": [
      "_________________________________________________________________\n",
      "Layer (type)                 Output Shape              Param #   \n",
      "=================================================================\n",
      "embedding_1 (Embedding)      (None, 2, 42)             882       \n",
      "_________________________________________________________________\n",
      "simple_rnn_1 (SimpleRNN)     (None, 256)               76544     \n",
      "_________________________________________________________________\n",
      "dense_1 (Dense)              (None, 21)                5397      \n",
      "=================================================================\n",
      "Total params: 82,823\n",
      "Trainable params: 82,823\n",
      "Non-trainable params: 0\n",
      "_________________________________________________________________\n"
     ]
    }
   ],
   "source": [
    "model.summary()"
   ]
  },
  {
   "cell_type": "code",
   "execution_count": 12,
   "metadata": {},
   "outputs": [],
   "source": [
    "model.compile(loss='sparse_categorical_crossentropy', optimizer=Adam())"
   ]
  },
  {
   "cell_type": "code",
   "execution_count": 13,
   "metadata": {},
   "outputs": [
    {
     "name": "stdout",
     "output_type": "stream",
     "text": [
      "Epoch 1/50\n",
      "35/35 [==============================] - 0s 13ms/step - loss: 3.0444\n",
      "\n",
      "Epoch 00001: loss improved from inf to 3.04439, saving model to saved_models/weights-improvement-01-3.0444.hdf5\n",
      "Epoch 2/50\n",
      "35/35 [==============================] - 0s 600us/step - loss: 2.9840\n",
      "\n",
      "Epoch 00002: loss improved from 3.04439 to 2.98403, saving model to saved_models/weights-improvement-02-2.9840.hdf5\n",
      "Epoch 3/50\n",
      "35/35 [==============================] - 0s 657us/step - loss: 2.9170\n",
      "\n",
      "Epoch 00003: loss improved from 2.98403 to 2.91700, saving model to saved_models/weights-improvement-03-2.9170.hdf5\n",
      "Epoch 4/50\n",
      "35/35 [==============================] - 0s 657us/step - loss: 2.8201\n",
      "\n",
      "Epoch 00004: loss improved from 2.91700 to 2.82013, saving model to saved_models/weights-improvement-04-2.8201.hdf5\n",
      "Epoch 5/50\n",
      "35/35 [==============================] - 0s 714us/step - loss: 2.6651\n",
      "\n",
      "Epoch 00005: loss improved from 2.82013 to 2.66515, saving model to saved_models/weights-improvement-05-2.6651.hdf5\n",
      "Epoch 6/50\n",
      "35/35 [==============================] - 0s 657us/step - loss: 2.4376\n",
      "\n",
      "Epoch 00006: loss improved from 2.66515 to 2.43760, saving model to saved_models/weights-improvement-06-2.4376.hdf5\n",
      "Epoch 7/50\n",
      "35/35 [==============================] - 0s 628us/step - loss: 2.1538\n",
      "\n",
      "Epoch 00007: loss improved from 2.43760 to 2.15379, saving model to saved_models/weights-improvement-07-2.1538.hdf5\n",
      "Epoch 8/50\n",
      "35/35 [==============================] - 0s 685us/step - loss: 1.8739\n",
      "\n",
      "Epoch 00008: loss improved from 2.15379 to 1.87393, saving model to saved_models/weights-improvement-08-1.8739.hdf5\n",
      "Epoch 9/50\n",
      "35/35 [==============================] - 0s 628us/step - loss: 1.6097\n",
      "\n",
      "Epoch 00009: loss improved from 1.87393 to 1.60971, saving model to saved_models/weights-improvement-09-1.6097.hdf5\n",
      "Epoch 10/50\n",
      "35/35 [==============================] - 0s 571us/step - loss: 1.3667\n",
      "\n",
      "Epoch 00010: loss improved from 1.60971 to 1.36674, saving model to saved_models/weights-improvement-10-1.3667.hdf5\n",
      "Epoch 11/50\n",
      "35/35 [==============================] - 0s 685us/step - loss: 1.1368\n",
      "\n",
      "Epoch 00011: loss improved from 1.36674 to 1.13684, saving model to saved_models/weights-improvement-11-1.1368.hdf5\n",
      "Epoch 12/50\n",
      "35/35 [==============================] - 0s 742us/step - loss: 0.9417\n",
      "\n",
      "Epoch 00012: loss improved from 1.13684 to 0.94172, saving model to saved_models/weights-improvement-12-0.9417.hdf5\n",
      "Epoch 13/50\n",
      "35/35 [==============================] - 0s 657us/step - loss: 0.7873\n",
      "\n",
      "Epoch 00013: loss improved from 0.94172 to 0.78734, saving model to saved_models/weights-improvement-13-0.7873.hdf5\n",
      "Epoch 14/50\n",
      "35/35 [==============================] - 0s 685us/step - loss: 0.6502\n",
      "\n",
      "Epoch 00014: loss improved from 0.78734 to 0.65024, saving model to saved_models/weights-improvement-14-0.6502.hdf5\n",
      "Epoch 15/50\n",
      "35/35 [==============================] - 0s 600us/step - loss: 0.5732\n",
      "\n",
      "Epoch 00015: loss improved from 0.65024 to 0.57318, saving model to saved_models/weights-improvement-15-0.5732.hdf5\n",
      "Epoch 16/50\n",
      "35/35 [==============================] - 0s 857us/step - loss: 0.4821\n",
      "\n",
      "Epoch 00016: loss improved from 0.57318 to 0.48206, saving model to saved_models/weights-improvement-16-0.4821.hdf5\n",
      "Epoch 17/50\n",
      "35/35 [==============================] - 0s 771us/step - loss: 0.4057\n",
      "\n",
      "Epoch 00017: loss improved from 0.48206 to 0.40565, saving model to saved_models/weights-improvement-17-0.4057.hdf5\n",
      "Epoch 18/50\n",
      "35/35 [==============================] - 0s 714us/step - loss: 0.3478\n",
      "\n",
      "Epoch 00018: loss improved from 0.40565 to 0.34776, saving model to saved_models/weights-improvement-18-0.3478.hdf5\n",
      "Epoch 19/50\n",
      "35/35 [==============================] - 0s 600us/step - loss: 0.3288\n",
      "\n",
      "Epoch 00019: loss improved from 0.34776 to 0.32876, saving model to saved_models/weights-improvement-19-0.3288.hdf5\n",
      "Epoch 20/50\n",
      "35/35 [==============================] - 0s 600us/step - loss: 0.3082\n",
      "\n",
      "Epoch 00020: loss improved from 0.32876 to 0.30823, saving model to saved_models/weights-improvement-20-0.3082.hdf5\n",
      "Epoch 21/50\n",
      "35/35 [==============================] - 0s 657us/step - loss: 0.3015\n",
      "\n",
      "Epoch 00021: loss improved from 0.30823 to 0.30147, saving model to saved_models/weights-improvement-21-0.3015.hdf5\n",
      "Epoch 22/50\n",
      "35/35 [==============================] - 0s 628us/step - loss: 0.2812\n",
      "\n",
      "Epoch 00022: loss improved from 0.30147 to 0.28116, saving model to saved_models/weights-improvement-22-0.2812.hdf5\n",
      "Epoch 23/50\n",
      "35/35 [==============================] - 0s 600us/step - loss: 0.2510\n",
      "\n",
      "Epoch 00023: loss improved from 0.28116 to 0.25102, saving model to saved_models/weights-improvement-23-0.2510.hdf5\n",
      "Epoch 24/50\n",
      "35/35 [==============================] - 0s 714us/step - loss: 0.2444\n",
      "\n",
      "Epoch 00024: loss improved from 0.25102 to 0.24438, saving model to saved_models/weights-improvement-24-0.2444.hdf5\n",
      "Epoch 25/50\n",
      "35/35 [==============================] - 0s 685us/step - loss: 0.2122\n",
      "\n",
      "Epoch 00025: loss improved from 0.24438 to 0.21222, saving model to saved_models/weights-improvement-25-0.2122.hdf5\n",
      "Epoch 26/50\n",
      "35/35 [==============================] - 0s 685us/step - loss: 0.2157\n",
      "\n",
      "Epoch 00026: loss did not improve from 0.21222\n",
      "Epoch 27/50\n",
      "35/35 [==============================] - 0s 628us/step - loss: 0.2210\n",
      "\n",
      "Epoch 00027: loss did not improve from 0.21222\n",
      "Epoch 28/50\n",
      "35/35 [==============================] - 0s 657us/step - loss: 0.2021\n",
      "\n",
      "Epoch 00028: loss improved from 0.21222 to 0.20215, saving model to saved_models/weights-improvement-28-0.2021.hdf5\n",
      "Epoch 29/50\n",
      "35/35 [==============================] - 0s 742us/step - loss: 0.1938\n",
      "\n",
      "Epoch 00029: loss improved from 0.20215 to 0.19377, saving model to saved_models/weights-improvement-29-0.1938.hdf5\n",
      "Epoch 30/50\n",
      "35/35 [==============================] - 0s 657us/step - loss: 0.1855\n",
      "\n",
      "Epoch 00030: loss improved from 0.19377 to 0.18554, saving model to saved_models/weights-improvement-30-0.1855.hdf5\n",
      "Epoch 31/50\n",
      "35/35 [==============================] - 0s 828us/step - loss: 0.1818\n",
      "\n",
      "Epoch 00031: loss improved from 0.18554 to 0.18180, saving model to saved_models/weights-improvement-31-0.1818.hdf5\n",
      "Epoch 32/50\n",
      "35/35 [==============================] - 0s 628us/step - loss: 0.1751\n",
      "\n",
      "Epoch 00032: loss improved from 0.18180 to 0.17511, saving model to saved_models/weights-improvement-32-0.1751.hdf5\n",
      "Epoch 33/50\n",
      "35/35 [==============================] - 0s 657us/step - loss: 0.1910\n",
      "\n",
      "Epoch 00033: loss did not improve from 0.17511\n",
      "Epoch 34/50\n",
      "35/35 [==============================] - 0s 771us/step - loss: 0.1649\n",
      "\n",
      "Epoch 00034: loss improved from 0.17511 to 0.16488, saving model to saved_models/weights-improvement-34-0.1649.hdf5\n",
      "Epoch 35/50\n",
      "35/35 [==============================] - 0s 714us/step - loss: 0.1800\n",
      "\n",
      "Epoch 00035: loss did not improve from 0.16488\n",
      "Epoch 36/50\n",
      "35/35 [==============================] - 0s 628us/step - loss: 0.1889\n",
      "\n",
      "Epoch 00036: loss did not improve from 0.16488\n",
      "Epoch 37/50\n",
      "35/35 [==============================] - 0s 657us/step - loss: 0.1678\n",
      "\n",
      "Epoch 00037: loss did not improve from 0.16488\n",
      "Epoch 38/50\n",
      "35/35 [==============================] - 0s 628us/step - loss: 0.1915\n",
      "\n",
      "Epoch 00038: loss did not improve from 0.16488\n",
      "Epoch 39/50\n",
      "35/35 [==============================] - 0s 600us/step - loss: 0.1672\n",
      "\n",
      "Epoch 00039: loss did not improve from 0.16488\n",
      "Epoch 40/50\n",
      "35/35 [==============================] - 0s 657us/step - loss: 0.1575\n",
      "\n",
      "Epoch 00040: loss improved from 0.16488 to 0.15751, saving model to saved_models/weights-improvement-40-0.1575.hdf5\n",
      "Epoch 41/50\n",
      "35/35 [==============================] - 0s 600us/step - loss: 0.1720\n",
      "\n",
      "Epoch 00041: loss did not improve from 0.15751\n",
      "Epoch 42/50\n",
      "35/35 [==============================] - 0s 771us/step - loss: 0.1559\n",
      "\n",
      "Epoch 00042: loss improved from 0.15751 to 0.15589, saving model to saved_models/weights-improvement-42-0.1559.hdf5\n",
      "Epoch 43/50\n",
      "35/35 [==============================] - 0s 685us/step - loss: 0.1730\n",
      "\n",
      "Epoch 00043: loss did not improve from 0.15589\n",
      "Epoch 44/50\n",
      "35/35 [==============================] - 0s 742us/step - loss: 0.1956\n",
      "\n",
      "Epoch 00044: loss did not improve from 0.15589\n",
      "Epoch 45/50\n",
      "35/35 [==============================] - 0s 657us/step - loss: 0.1648\n",
      "\n",
      "Epoch 00045: loss did not improve from 0.15589\n",
      "Epoch 46/50\n",
      "35/35 [==============================] - 0s 742us/step - loss: 0.1631\n"
     ]
    },
    {
     "name": "stdout",
     "output_type": "stream",
     "text": [
      "\n",
      "Epoch 00046: loss did not improve from 0.15589\n",
      "Epoch 47/50\n",
      "35/35 [==============================] - 0s 742us/step - loss: 0.1596\n",
      "\n",
      "Epoch 00047: loss did not improve from 0.15589\n",
      "Epoch 48/50\n",
      "35/35 [==============================] - 0s 628us/step - loss: 0.1673\n",
      "\n",
      "Epoch 00048: loss did not improve from 0.15589\n",
      "Epoch 49/50\n",
      "35/35 [==============================] - 0s 628us/step - loss: 0.1480\n",
      "\n",
      "Epoch 00049: loss improved from 0.15589 to 0.14803, saving model to saved_models/weights-improvement-49-0.1480.hdf5\n",
      "Epoch 50/50\n",
      "35/35 [==============================] - 0s 685us/step - loss: 0.1488\n",
      "\n",
      "Epoch 00050: loss did not improve from 0.14803\n"
     ]
    }
   ],
   "source": [
    "filepath=\"saved_models/weights-improvement-{epoch:02d}-{loss:.4f}.hdf5\"\n",
    "checkpoint = ModelCheckpoint(filepath, monitor='loss', verbose=1, save_best_only=True, mode='min')\n",
    "callbacks_list = [checkpoint]\n",
    "history = model.fit(input_strings, output_strings, epochs = 50, batch_size = 4, callbacks = callbacks_list)"
   ]
  },
  {
   "cell_type": "code",
   "execution_count": 14,
   "metadata": {
    "scrolled": true
   },
   "outputs": [
    {
     "name": "stdout",
     "output_type": "stream",
     "text": [
      "_________________________________________________________________\n",
      "Layer (type)                 Output Shape              Param #   \n",
      "=================================================================\n",
      "embedding_1 (Embedding)      (None, 2, 42)             882       \n",
      "_________________________________________________________________\n",
      "simple_rnn_1 (SimpleRNN)     (None, 256)               76544     \n",
      "_________________________________________________________________\n",
      "dense_1 (Dense)              (None, 21)                5397      \n",
      "=================================================================\n",
      "Total params: 82,823\n",
      "Trainable params: 82,823\n",
      "Non-trainable params: 0\n",
      "_________________________________________________________________\n"
     ]
    }
   ],
   "source": [
    "model.summary()"
   ]
  },
  {
   "cell_type": "code",
   "execution_count": 20,
   "metadata": {},
   "outputs": [],
   "source": [
    "filename = 'saved_models/weights-improvement-49-0.1480.hdf5'\n",
    "model.load_weights(filename)"
   ]
  },
  {
   "cell_type": "code",
   "execution_count": 88,
   "metadata": {},
   "outputs": [],
   "source": [
    "input_text = []\n",
    "predicted_text  = []\n",
    "def predict_next_char(inp):\n",
    "    inp_text = list(inp)\n",
    "    input_text.append(inp_text)\n",
    "    if len(inp_text) > 2:\n",
    "        inp_text = inp_text[len(inp_text)-2: ]\n",
    "    if len(inp_text) < 2:\n",
    "        pad = []\n",
    "        space = char_to_int[' ']\n",
    "        pad = [space for i in range(2-len(inp_text))]\n",
    "        inp_text = pad + inp_text\n",
    "    index = [char_to_index[i] for i in inp_text]\n",
    "    arr = np.expand_dims(np.array(index), axis=0)\n",
    "    prediction = model.predict(arr)\n",
    "    predicted_text.append(index_to_char[np.argmax(prediction)])\n",
    "    return index_to_char[np.argmax(prediction)]"
   ]
  },
  {
   "cell_type": "code",
   "execution_count": 82,
   "metadata": {},
   "outputs": [
    {
     "data": {
      "text/plain": [
       "'x'"
      ]
     },
     "execution_count": 82,
     "metadata": {},
     "output_type": "execute_result"
    }
   ],
   "source": [
    "predict_next_char('fo')"
   ]
  },
  {
   "cell_type": "code",
   "execution_count": 87,
   "metadata": {},
   "outputs": [
    {
     "data": {
      "text/plain": [
       "[(['b', 'r'], 'o'),\n",
       " (['q', 'u'], 'i'),\n",
       " (['b', 'r'], 'o'),\n",
       " (['b', 'r', 'o'], 'w'),\n",
       " (['f', 'o'], 'x'),\n",
       " ([' ', 'f'], 'o'),\n",
       " (['x', 'o'], 'i'),\n",
       " (['z'], '\\n'),\n",
       " (['z', 'y'], 'i'),\n",
       " (['q', 'u'], 'c'),\n",
       " (['q', 'u', 'i'], ' '),\n",
       " (['q', 'u', 'e'], 'i'),\n",
       " (['q', 'u'], 'c'),\n",
       " (['q', 'u', 'i'], 'o'),\n",
       " ([' ', 'l'], 'z'),\n",
       " (['l', 'a'], 'y'),\n",
       " (['l', 'a', 'z'], 'g'),\n",
       " (['l', 'o', 'n'], 'n'),\n",
       " (['l', 'o'], 'o'),\n",
       " ([' ', 'f'], 'x')]"
      ]
     },
     "execution_count": 87,
     "metadata": {},
     "output_type": "execute_result"
    }
   ],
   "source": [
    "list(zip(input_text, predicted_text))"
   ]
  },
  {
   "cell_type": "code",
   "execution_count": null,
   "metadata": {},
   "outputs": [],
   "source": []
  }
 ],
 "metadata": {
  "kernelspec": {
   "display_name": "Python 3",
   "language": "python",
   "name": "python3"
  },
  "language_info": {
   "codemirror_mode": {
    "name": "ipython",
    "version": 3
   },
   "file_extension": ".py",
   "mimetype": "text/x-python",
   "name": "python",
   "nbconvert_exporter": "python",
   "pygments_lexer": "ipython3",
   "version": "3.6.4"
  }
 },
 "nbformat": 4,
 "nbformat_minor": 2
}
